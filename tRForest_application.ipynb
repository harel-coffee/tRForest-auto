{
 "cells": [
  {
   "cell_type": "code",
   "execution_count": null,
   "metadata": {},
   "outputs": [],
   "source": [
    "# Load models\n",
    "model = joblib.load(\"/Users/RohanParikh/Google Drive/Dutta Lab/random forests/tRForest_kfold.joblib\")\n",
    "model_split = joblib.load(\"/Users/RohanParikh/Google Drive/Dutta Lab/random forests/tRForest_split.joblib\")\n",
    "\n",
    "# Set paths and get filenames in relevant directory\n",
    "from os import walk\n",
    "mypath = \"/path/to/all_feature_profiles/\" # Directory with feature profiles of all tRFs\n",
    "outputpath = \"/path/to/output/\" # Output directory\n",
    "\n",
    "f = []\n",
    "for (dirpath, dirnames, filenames) in walk(mypath):\n",
    "    f.extend(filenames)\n",
    "    break\n",
    "    \n",
    "# Generate predictions for feature profiles\n",
    "for k in range(len(f)):\n",
    "    new_dataset_filename = mypath + f[k]\n",
    "    names = ['trfdb_id','trf_sequence','tran_id','tran_ver','name','mrna_sequence','chr','start_loc','end_loc','length_utr','trf_binding_loc', 'mrna_binding_loc', 'binding_energy', 'seed', 'au_content', 'num_paired_pos', 'binding_region_length', 'longest_consecutive', 'pos_longest_consecutive', 'three_prime_pairs', 'seed_end_diff', 'phylop_stem', 'phylop_flanking']\n",
    "    \n",
    "    # Get feature values\n",
    "    X_new = read_csv(new_dataset_filename, names=names, low_memory=False)\n",
    "    if(len(X_new) == 2):\n",
    "        X_new = X_new[1:2]\n",
    "    else:\n",
    "        X_new = X_new[1:(len(X_new)-1)]\n",
    "    X_new = X_new.values\n",
    "    X_new_features = X_new[:, 12:23]\n",
    "    X_new_features = X_new_features.astype(float)\n",
    "    X_new_features = np.nan_to_num(X_new_features)\n",
    "    \n",
    "    # Get predictions with and without probabilities\n",
    "    Y_prednew_kfold = model.predict(X_new_features)\n",
    "    Y_predproba_kfold = model.predict_proba(X_new_features)[:,1]\n",
    "    \n",
    "    # Output files\n",
    "    idx_start = f[k].index('files_')\n",
    "    idx_end = f[k].index('.csv')\n",
    "\n",
    "    resultFile = outputpath + 'kfold_preds/trf-' + f[k][idx_start+6:idx_end] + '_kfold_pred.csv'\n",
    "    wtr = csv.writer(open (resultFile, 'w'), delimiter=' ', lineterminator='\\n')\n",
    "    for x in Y_prednew_kfold : wtr.writerow ([x])\n",
    "    \n",
    "    resultFile2 = outputpath + 'kfold_preds_proba/trf-' + f[k][idx_start+6:idx_end] + '_kfold_predproba.csv'\n",
    "    wtr = csv.writer(open (resultFile2, 'w'), delimiter=' ', lineterminator='\\n')\n",
    "    for x in Y_predproba_kfold : wtr.writerow ([x])"
   ]
  }
 ],
 "metadata": {
  "kernelspec": {
   "display_name": "Python 3",
   "language": "python",
   "name": "python3"
  },
  "language_info": {
   "codemirror_mode": {
    "name": "ipython",
    "version": 3
   },
   "file_extension": ".py",
   "mimetype": "text/x-python",
   "name": "python",
   "nbconvert_exporter": "python",
   "pygments_lexer": "ipython3",
   "version": "3.7.6"
  }
 },
 "nbformat": 4,
 "nbformat_minor": 4
}
